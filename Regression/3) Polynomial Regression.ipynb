{
 "cells": [
  {
   "cell_type": "markdown",
   "id": "a1ee37fb",
   "metadata": {},
   "source": [
    "## Importing Libraries"
   ]
  },
  {
   "cell_type": "code",
   "execution_count": 2,
   "id": "e91a2cf8",
   "metadata": {},
   "outputs": [],
   "source": [
    "import pandas as pd\n",
    "import numpy as np\n",
    "import matplotlib.pyplot as plt\n",
    "%matplotlib inline"
   ]
  },
  {
   "cell_type": "markdown",
   "id": "7cd07ffd",
   "metadata": {},
   "source": [
    "## Importing DataSet"
   ]
  },
  {
   "cell_type": "code",
   "execution_count": 4,
   "id": "73e75312",
   "metadata": {},
   "outputs": [],
   "source": [
    "dataset = pd.read_csv('RBC in Humans Polynomial Regression.csv')"
   ]
  },
  {
   "cell_type": "code",
   "execution_count": 7,
   "id": "bb778869",
   "metadata": {},
   "outputs": [
    {
     "name": "stdout",
     "output_type": "stream",
     "text": [
      "    Age  RBC's (in billions)\n",
      "0     1                   99\n",
      "1     4                  390\n",
      "2     5                  412\n",
      "3    10                 1481\n",
      "4    12                 1780\n",
      "5    15                 2105\n",
      "6    20                 2898\n",
      "7    21                 2680\n",
      "8    22                 2740\n",
      "9    25                 2800\n",
      "10   30                 2601\n",
      "11   35                 2343\n",
      "12   40                 2271\n",
      "13   45                 1902\n",
      "14   50                 1701\n",
      "15   55                 1491\n",
      "16   57                 1329\n",
      "17   60                 1191\n",
      "18   65                  809\n",
      "19   70                  701\n",
      "20   75                  493\n",
      "21   80                  291\n",
      "22   81                  269\n",
      "23   82                  240\n",
      "24   85                  191\n",
      "25   95                   21\n"
     ]
    }
   ],
   "source": [
    "print(dataset)"
   ]
  },
  {
   "cell_type": "code",
   "execution_count": 21,
   "id": "f72e0c6b",
   "metadata": {},
   "outputs": [],
   "source": [
    "# Identifying Dependent And Independent Variable\n",
    "X = dataset.iloc[:,0:-1].values\n",
    "y = dataset.iloc[:,-1].values"
   ]
  },
  {
   "cell_type": "code",
   "execution_count": 22,
   "id": "65bca97c",
   "metadata": {},
   "outputs": [
    {
     "name": "stdout",
     "output_type": "stream",
     "text": [
      "[[ 1]\n",
      " [ 4]\n",
      " [ 5]\n",
      " [10]\n",
      " [12]\n",
      " [15]\n",
      " [20]\n",
      " [21]\n",
      " [22]\n",
      " [25]\n",
      " [30]\n",
      " [35]\n",
      " [40]\n",
      " [45]\n",
      " [50]\n",
      " [55]\n",
      " [57]\n",
      " [60]\n",
      " [65]\n",
      " [70]\n",
      " [75]\n",
      " [80]\n",
      " [81]\n",
      " [82]\n",
      " [85]\n",
      " [95]]\n"
     ]
    }
   ],
   "source": [
    "print(X)"
   ]
  },
  {
   "cell_type": "code",
   "execution_count": 23,
   "id": "66ac41d3",
   "metadata": {},
   "outputs": [
    {
     "name": "stdout",
     "output_type": "stream",
     "text": [
      "[  99  390  412 1481 1780 2105 2898 2680 2740 2800 2601 2343 2271 1902\n",
      " 1701 1491 1329 1191  809  701  493  291  269  240  191   21]\n"
     ]
    }
   ],
   "source": [
    "print(y)"
   ]
  },
  {
   "cell_type": "markdown",
   "id": "cae2289e",
   "metadata": {},
   "source": [
    "## Training Linear Regression Model On The Whole Dataset"
   ]
  },
  {
   "cell_type": "code",
   "execution_count": 24,
   "id": "b6e3bf2f",
   "metadata": {},
   "outputs": [
    {
     "data": {
      "text/plain": [
       "LinearRegression()"
      ]
     },
     "execution_count": 24,
     "metadata": {},
     "output_type": "execute_result"
    }
   ],
   "source": [
    "from sklearn.linear_model import LinearRegression\n",
    "linear_reg = LinearRegression()\n",
    "linear_reg.fit(X,y)"
   ]
  },
  {
   "cell_type": "markdown",
   "id": "2fd311a8",
   "metadata": {},
   "source": [
    "## Training Polynomial Regression Model On The Whole Dataset"
   ]
  },
  {
   "cell_type": "code",
   "execution_count": 29,
   "id": "556c01e4",
   "metadata": {},
   "outputs": [
    {
     "data": {
      "text/plain": [
       "LinearRegression()"
      ]
     },
     "execution_count": 29,
     "metadata": {},
     "output_type": "execute_result"
    }
   ],
   "source": [
    "from sklearn.preprocessing import PolynomialFeatures\n",
    "polynomial_reg = PolynomialFeatures(degree = 6)\n",
    "X_poly = polynomial_reg.fit_transform(X)\n",
    "\n",
    "linear_reg2 = LinearRegression()\n",
    "linear_reg2.fit(X_poly,y)"
   ]
  },
  {
   "cell_type": "markdown",
   "id": "89c7adb0",
   "metadata": {},
   "source": [
    "## Visualize Linear Regression Results"
   ]
  },
  {
   "cell_type": "code",
   "execution_count": 30,
   "id": "42e15f0d",
   "metadata": {},
   "outputs": [
    {
     "data": {
      "image/png": "[encoded data removed]",
      "text/plain": [
       "<Figure size 432x288 with 1 Axes>"
      ]
     },
     "metadata": {
      "needs_background": "light"
     },
     "output_type": "display_data"
    }
   ],
   "source": [
    "plt.scatter(X,y, color =\"red\")\n",
    "plt.plot(X, linear_reg.predict(X),color = 'blue')\n",
    "plt.title('RBC - Linear Regression')\n",
    "plt.xlabel('Age')\n",
    "plt.ylabel('RBCs')\n",
    "plt.show()"
   ]
  },
  {
   "cell_type": "markdown",
   "id": "86c40aa5",
   "metadata": {},
   "source": [
    "## Visualize Polynomial Regression Results"
   ]
  },
  {
   "cell_type": "code",
   "execution_count": 31,
   "id": "475f4cb4",
   "metadata": {},
   "outputs": [
    {
     "data": {
      "text/plain": [
       "Text(0, 0.5, 'RBCs')"
      ]
     },
     "execution_count": 31,
     "metadata": {},
     "output_type": "execute_result"
    },
    {
     "data": {
      "image/png": "[encoded data removed]",
      "text/plain": [
       "<Figure size 432x288 with 1 Axes>"
      ]
     },
     "metadata": {
      "needs_background": "light"
     },
     "output_type": "display_data"
    }
   ],
   "source": [
    "plt.scatter(X, y, color = 'red')\n",
    "plt.plot(X, linear_reg2.predict(X_poly), color = 'blue')\n",
    "plt.title('RBC - Linear Regression')\n",
    "plt.xlabel('Age')\n",
    "plt.ylabel('RBCs')"
   ]
  },
  {
   "cell_type": "markdown",
   "id": "e83f027d",
   "metadata": {},
   "source": [
    "## Predict New Result With Linear Regression"
   ]
  },
  {
   "cell_type": "code",
   "execution_count": 33,
   "id": "2218025b",
   "metadata": {},
   "outputs": [
    {
     "data": {
      "text/plain": [
       "array([1980.15863901])"
      ]
     },
     "execution_count": 33,
     "metadata": {},
     "output_type": "execute_result"
    }
   ],
   "source": [
    "linear_reg.predict([[6.5]])"
   ]
  },
  {
   "cell_type": "markdown",
   "id": "0d98b8b0",
   "metadata": {},
   "source": [
    "## Predict New Result With Polynomial Regression"
   ]
  },
  {
   "cell_type": "code",
   "execution_count": 36,
   "id": "40e3b51e",
   "metadata": {},
   "outputs": [
    {
     "data": {
      "text/plain": [
       "array([878.0646797])"
      ]
     },
     "execution_count": 36,
     "metadata": {},
     "output_type": "execute_result"
    }
   ],
   "source": [
    "linear_reg2.predict(polynomial_reg.fit_transform([[6.5]]))"
   ]
  }
 ],
 "metadata": {
  "kernelspec": {
   "display_name": "Python 3 (ipykernel)",
   "language": "python",
   "name": "python3"
  },
  "language_info": {
   "codemirror_mode": {
    "name": "ipython",
    "version": 3
   },
   "file_extension": ".py",
   "mimetype": "text/x-python",
   "name": "python",
   "nbconvert_exporter": "python",
   "pygments_lexer": "ipython3",
   "version": "3.9.12"
  }
 },
 "nbformat": 4,
 "nbformat_minor": 5
}
