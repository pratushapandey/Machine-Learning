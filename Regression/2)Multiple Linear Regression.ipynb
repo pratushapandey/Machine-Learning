{
 "cells": [
  {
   "cell_type": "markdown",
   "id": "17c8a4e8",
   "metadata": {},
   "source": [
    "### Importing Libraries"
   ]
  },
  {
   "cell_type": "code",
   "execution_count": 1,
   "id": "e0ee00b5",
   "metadata": {},
   "outputs": [],
   "source": [
    "import pandas as pd\n",
    "import numpy as np\n",
    "import matplotlib.pyplot as plt\n",
    "%matplotlib inline"
   ]
  },
  {
   "cell_type": "markdown",
   "id": "2351a3b8",
   "metadata": {},
   "source": [
    "### Importing DataSet"
   ]
  },
  {
   "cell_type": "code",
   "execution_count": 31,
   "id": "081d00d9",
   "metadata": {},
   "outputs": [],
   "source": [
    "data_set = pd.read_csv('Covid_data_Multiple_Regression.csv')"
   ]
  },
  {
   "cell_type": "code",
   "execution_count": 32,
   "id": "2c1718b5",
   "metadata": {},
   "outputs": [],
   "source": [
    "X = data_set.iloc[: , :-1].values\n",
    "y = data_set.iloc[:, -1].values"
   ]
  },
  {
   "cell_type": "markdown",
   "id": "bd6f0d5a",
   "metadata": {},
   "source": [
    "### Encoding Categorial Data"
   ]
  },
  {
   "cell_type": "markdown",
   "id": "fdf70e5f",
   "metadata": {},
   "source": [
    "#### Splitting Into Test And Trainning Set"
   ]
  },
  {
   "cell_type": "code",
   "execution_count": 33,
   "id": "9c6f90e3",
   "metadata": {},
   "outputs": [],
   "source": [
    "from sklearn.compose import ColumnTransformer\n",
    "from sklearn.preprocessing import OneHotEncoder\n",
    "\n",
    "ct = ColumnTransformer(transformers = [('encoder',OneHotEncoder(),[1])], remainder = 'passthrough')\n",
    "\n",
    "X = np.array(ct.fit_transform(X))"
   ]
  },
  {
   "cell_type": "code",
   "execution_count": 34,
   "id": "d0e1ffbd",
   "metadata": {},
   "outputs": [
    {
     "data": {
      "text/plain": [
       "array([[0.0, 0.0, 1.0, 10, 0, 97],\n",
       "       [1.0, 0.0, 0.0, 80, 0, 92],\n",
       "       [0.0, 1.0, 0.0, 10, 0, 97],\n",
       "       [1.0, 0.0, 0.0, 81, 4, 75],\n",
       "       [0.0, 0.0, 1.0, 12, 0, 97],\n",
       "       [0.0, 1.0, 0.0, 18, 0, 66],\n",
       "       [0.0, 0.0, 1.0, 13, 0, 93],\n",
       "       [1.0, 0.0, 0.0, 94, 4, 64],\n",
       "       [1.0, 0.0, 0.0, 86, 2, 76],\n",
       "       [0.0, 0.0, 1.0, 20, 0, 92],\n",
       "       [0.0, 0.0, 1.0, 15, 0, 94],\n",
       "       [0.0, 0.0, 1.0, 15, 0, 92],\n",
       "       [0.0, 1.0, 0.0, 16, 0, 92],\n",
       "       [0.0, 0.0, 1.0, 17, 0, 93],\n",
       "       [0.0, 0.0, 1.0, 18, 0, 93],\n",
       "       [0.0, 0.0, 1.0, 19, 0, 92],\n",
       "       [0.0, 0.0, 1.0, 19, 0, 89],\n",
       "       [0.0, 0.0, 1.0, 12, 0, 97],\n",
       "       [0.0, 0.0, 1.0, 20, 0, 93],\n",
       "       [0.0, 0.0, 1.0, 24, 0, 92],\n",
       "       [0.0, 0.0, 1.0, 25, 0, 93],\n",
       "       [1.0, 0.0, 0.0, 59, 2, 68],\n",
       "       [1.0, 0.0, 0.0, 63, 1, 66],\n",
       "       [0.0, 0.0, 1.0, 25, 1, 62],\n",
       "       [1.0, 0.0, 0.0, 26, 0, 94],\n",
       "       [0.0, 1.0, 0.0, 26, 0, 97],\n",
       "       [0.0, 0.0, 1.0, 28, 0, 99],\n",
       "       [1.0, 0.0, 0.0, 59, 0, 69],\n",
       "       [0.0, 0.0, 1.0, 28, 0, 89],\n",
       "       [0.0, 0.0, 1.0, 29, 0, 93],\n",
       "       [0.0, 0.0, 1.0, 48, 0, 93],\n",
       "       [0.0, 0.0, 1.0, 30, 0, 62],\n",
       "       [0.0, 0.0, 1.0, 30, 0, 86],\n",
       "       [0.0, 0.0, 1.0, 32, 0, 84],\n",
       "       [0.0, 0.0, 1.0, 34, 1, 90],\n",
       "       [0.0, 0.0, 1.0, 35, 0, 89],\n",
       "       [1.0, 0.0, 0.0, 50, 2, 77],\n",
       "       [1.0, 0.0, 0.0, 56, 2, 76],\n",
       "       [1.0, 0.0, 0.0, 56, 1, 77],\n",
       "       [1.0, 0.0, 0.0, 36, 1, 90],\n",
       "       [1.0, 0.0, 0.0, 38, 2, 75],\n",
       "       [0.0, 0.0, 1.0, 40, 0, 90],\n",
       "       [1.0, 0.0, 0.0, 40, 0, 92],\n",
       "       [1.0, 0.0, 0.0, 61, 2, 76],\n",
       "       [1.0, 0.0, 0.0, 42, 0, 92],\n",
       "       [1.0, 0.0, 0.0, 46, 0, 91],\n",
       "       [0.0, 0.0, 1.0, 49, 0, 80],\n",
       "       [1.0, 0.0, 0.0, 52, 1, 80],\n",
       "       [0.0, 0.0, 1.0, 32, 0, 89],\n",
       "       [1.0, 0.0, 0.0, 53, 1, 55],\n",
       "       [1.0, 0.0, 0.0, 54, 1, 70],\n",
       "       [1.0, 0.0, 0.0, 90, 3, 67],\n",
       "       [1.0, 0.0, 0.0, 78, 2, 71],\n",
       "       [1.0, 0.0, 0.0, 58, 0, 70],\n",
       "       [1.0, 0.0, 0.0, 60, 1, 68],\n",
       "       [0.0, 0.0, 1.0, 61, 0, 90],\n",
       "       [1.0, 0.0, 0.0, 62, 1, 68],\n",
       "       [1.0, 0.0, 0.0, 86, 3, 71],\n",
       "       [1.0, 0.0, 0.0, 62, 2, 69],\n",
       "       [1.0, 0.0, 0.0, 64, 1, 73],\n",
       "       [1.0, 0.0, 0.0, 68, 1, 67],\n",
       "       [1.0, 0.0, 0.0, 69, 0, 53],\n",
       "       [0.0, 0.0, 1.0, 70, 1, 88],\n",
       "       [1.0, 0.0, 0.0, 74, 2, 75],\n",
       "       [1.0, 0.0, 0.0, 75, 1, 72],\n",
       "       [1.0, 0.0, 0.0, 76, 4, 80],\n",
       "       [0.0, 0.0, 1.0, 35, 0, 92],\n",
       "       [0.0, 0.0, 1.0, 13, 0, 94],\n",
       "       [1.0, 0.0, 0.0, 82, 3, 73]], dtype=object)"
      ]
     },
     "execution_count": 34,
     "metadata": {},
     "output_type": "execute_result"
    }
   ],
   "source": [
    "X"
   ]
  },
  {
   "cell_type": "code",
   "execution_count": 61,
   "id": "9ad8394f",
   "metadata": {},
   "outputs": [],
   "source": [
    "from sklearn.model_selection import train_test_split\n",
    "X_train , X_test, y_train , y_test = train_test_split(X, y, test_size = 0.4, random_state = 42)"
   ]
  },
  {
   "cell_type": "markdown",
   "id": "d6cb0f9b",
   "metadata": {},
   "source": [
    "### Training Multiple Regression Model On Training Set"
   ]
  },
  {
   "cell_type": "code",
   "execution_count": 62,
   "id": "152a3148",
   "metadata": {},
   "outputs": [
    {
     "data": {
      "text/plain": [
       "LinearRegression()"
      ]
     },
     "execution_count": 62,
     "metadata": {},
     "output_type": "execute_result"
    }
   ],
   "source": [
    "from sklearn.linear_model import LinearRegression\n",
    "regressor = LinearRegression()\n",
    "regressor.fit(X_train, y_train)"
   ]
  },
  {
   "cell_type": "markdown",
   "id": "c5d32f19",
   "metadata": {},
   "source": [
    "### Predicting Test Set Rules"
   ]
  },
  {
   "cell_type": "code",
   "execution_count": 63,
   "id": "c17d03b5",
   "metadata": {},
   "outputs": [
    {
     "name": "stdout",
     "output_type": "stream",
     "text": [
      "[[ 58732.984  59994.   ]\n",
      " [107515.527 127181.   ]\n",
      " [ 71551.303  73010.   ]\n",
      " [106344.925 110911.   ]\n",
      " [ 66850.368  63091.   ]\n",
      " [ 99839.658  97101.   ]\n",
      " [103221.878 101000.   ]\n",
      " [ 88714.614  90015.   ]\n",
      " [ 86240.91   87005.   ]\n",
      " [104351.527 100000.   ]\n",
      " [ 79859.487  75012.   ]\n",
      " [ 99383.943  98101.   ]\n",
      " [ 61337.688  62001.   ]\n",
      " [ 91332.338  99110.   ]\n",
      " [ 44066.234  42010.   ]\n",
      " [ 83451.234  83891.   ]\n",
      " [ 40813.601   4189.   ]\n",
      " [ 89237.286  90124.   ]\n",
      " [ 60229.715  61018.   ]\n",
      " [ 76941.64   77010.   ]\n",
      " [ 98602.1    98081.   ]\n",
      " [ 86910.282  90001.   ]\n",
      " [ 87411.511  88012.   ]\n",
      " [ 93334.392  93091.   ]\n",
      " [ 29573.17   37914.   ]\n",
      " [ 52664.905  59913.   ]\n",
      " [ 74098.921  78004.   ]\n",
      " [ 65823.552  61082.   ]]\n"
     ]
    }
   ],
   "source": [
    "y_pred = regressor.predict(X_test)\n",
    "np.set_printoptions(precision=3)\n",
    "print(np.concatenate((y_pred.reshape(len(y_pred),1),y_test.reshape(len(y_test),1)),axis=1))"
   ]
  },
  {
   "cell_type": "markdown",
   "id": "ce353a28",
   "metadata": {},
   "source": [
    "### Visualization Results"
   ]
  },
  {
   "cell_type": "code",
   "execution_count": 60,
   "id": "44f5b0c3",
   "metadata": {},
   "outputs": [
    {
     "data": {
      "text/plain": [
       "[<matplotlib.lines.Line2D at 0x1d27d7db2e0>]"
      ]
     },
     "execution_count": 60,
     "metadata": {},
     "output_type": "execute_result"
    },
    {
     "data": {
      "image/png": "[encoded data removed]",
      "text/plain": [
       "<Figure size 432x288 with 1 Axes>"
      ]
     },
     "metadata": {
      "needs_background": "light"
     },
     "output_type": "display_data"
    }
   ],
   "source": [
    "plt.plot(y_pred)\n",
    "plt.plot(y_test)"
   ]
  }
 ],
 "metadata": {
  "kernelspec": {
   "display_name": "Python 3 (ipykernel)",
   "language": "python",
   "name": "python3"
  },
  "language_info": {
   "codemirror_mode": {
    "name": "ipython",
    "version": 3
   },
   "file_extension": ".py",
   "mimetype": "text/x-python",
   "name": "python",
   "nbconvert_exporter": "python",
   "pygments_lexer": "ipython3",
   "version": "3.9.12"
  }
 },
 "nbformat": 4,
 "nbformat_minor": 5
}
